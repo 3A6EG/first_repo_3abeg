{
  "nbformat": 4,
  "nbformat_minor": 0,
  "metadata": {
    "colab": {
      "name": "Лабораторная работа №1.ipynb",
      "provenance": [],
      "collapsed_sections": [],
      "include_colab_link": true
    },
    "kernelspec": {
      "name": "python3",
      "display_name": "Python 3"
    },
    "language_info": {
      "name": "python"
    }
  },
  "cells": [
    {
      "cell_type": "markdown",
      "metadata": {
        "id": "view-in-github",
        "colab_type": "text"
      },
      "source": [
        "<a href=\"https://colab.research.google.com/github/3A6EG/first_repo_3abeg/blob/main/%D0%9B%D0%B0%D0%B1%D0%BE%D1%80%D0%B0%D1%82%D0%BE%D1%80%D0%BD%D0%B0%D1%8F_%D1%80%D0%B0%D0%B1%D0%BE%D1%82%D0%B0_%E2%84%961.ipynb\" target=\"_parent\"><img src=\"https://colab.research.google.com/assets/colab-badge.svg\" alt=\"Open In Colab\"/></a>"
      ]
    },
    {
      "cell_type": "markdown",
      "source": [
        "##Markdown"
      ],
      "metadata": {
        "id": "8WfUJfFax8LA"
      }
    },
    {
      "cell_type": "markdown",
      "source": [
        "Нужно сделать:\n",
        "\n",
        "1. Список.\n",
        "2. Рисунок.\n",
        "3. Таблицу.\n",
        "4. Ссылку.\n",
        "\n"
      ],
      "metadata": {
        "id": "Lu1yq_uCyUER"
      }
    },
    {
      "cell_type": "markdown",
      "source": [
        "![](https://habrastorage.org/getpro/moikrug/uploads/university/000/001/695/logo/medium_a68ad9662fbc4b06311a7297c5321cdf.png)\n",
        "\n",
        "A|B|C\n",
        "-|-|-\n",
        "11|22|33|\n",
        "1000| 250|-50\n",
        "\n",
        "[Ссылка на руководство Markdown](https://colab.research.google.com/notebooks/markdown_guide.ipynb#scrollTo=70pYkR9LiOV0)\n",
        "\n",
        "\n"
      ],
      "metadata": {
        "id": "3e9WkHd79a7I"
      }
    },
    {
      "cell_type": "markdown",
      "source": [
        "![](https://c.tenor.com/muf2ttWVtGAAAAAd/hedgehog-ежик.gif)\n"
      ],
      "metadata": {
        "id": "goYH0ZM_J7wp"
      }
    }
  ]
}